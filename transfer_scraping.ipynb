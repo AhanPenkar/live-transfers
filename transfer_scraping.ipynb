{
 "cells": [
  {
   "cell_type": "code",
   "execution_count": 20,
   "metadata": {},
   "outputs": [],
   "source": [
    "# Import libraries\n",
    "import requests\n",
    "from bs4 import BeautifulSoup\n",
    "import pandas as pd\n",
    "import numpy as np"
   ]
  },
  {
   "cell_type": "code",
   "execution_count": 21,
   "metadata": {},
   "outputs": [],
   "source": [
    "def create_url(league_name,league_id):\n",
    "    url = f'https://www.transfermarkt.com/{league_name}/transfers/wettbewerb/{league_id}/plus/?saison_id=2023&s_w=s'\n",
    "    return(url)"
   ]
  },
  {
   "cell_type": "code",
   "execution_count": 22,
   "metadata": {},
   "outputs": [],
   "source": [
    "def create_club_names(doc):  \n",
    "    mydivs = doc.find_all(\"div\", {\"class\": \"box\"})\n",
    "    club_names = []\n",
    "    for eachDiv in mydivs:\n",
    "        try:\n",
    "            club_names.append(eachDiv.find_all('h2')[0].text.strip())\n",
    "            club_names.append(eachDiv.find_all('h2')[0].text.strip())\n",
    "        except:\n",
    "            pass\n",
    "        \n",
    "    club_names = club_names[4:len(club_names)-2]\n",
    "    return club_names"
   ]
  },
  {
   "cell_type": "code",
   "execution_count": 23,
   "metadata": {},
   "outputs": [],
   "source": [
    "def createDataframe(read_html_pandas_data, club_names):    \n",
    "    appendData = []\n",
    "    for x in range(1, len(read_html_pandas_data)):\n",
    "        df1 = pd.DataFrame()\n",
    "        df1 = read_html_pandas_data[x]\n",
    "        df1['club_name'] = club_names[x-1]\n",
    "        df1 = df1.rename(columns={'Left.1': 'club_involved_name'})\n",
    "        df1 = df1.rename(columns={'Joined.1': 'club_involved_name'})\n",
    "        appendData.append(df1)\n",
    "    appended_data = pd.concat(appendData)\n",
    "\n",
    "    appended_data.loc[appended_data['In'].isnull(), 'transfer_movement'] = 'Out' \n",
    "    appended_data.loc[appended_data['Out'].isnull(), 'transfer_movement'] = 'In' \n",
    "\n",
    "    appended_data['player_name'] = appended_data['Out'].fillna(appended_data['In'])\n",
    "    appended_data = appended_data.drop(columns=['In', 'Out', 'Nat.', 'Left', 'Joined'])\n",
    "\n",
    "    appended_data = appended_data.iloc[:, [6,8,0,1,2,3,4,5,7]]\n",
    "\n",
    "    \n",
    "    appended_data['fee_cleaned'] = appended_data['Fee']\n",
    "    appended_data.loc[~appended_data['fee_cleaned'].str.contains('€', na=False),'fee_cleaned'] = np.nan\n",
    "    appended_data['fee_cleaned'] = appended_data['fee_cleaned'].str.replace('Loan fee:', '')    \n",
    "    return appended_data\n"
   ]
  },
  {
   "cell_type": "code",
   "execution_count": 24,
   "metadata": {},
   "outputs": [
    {
     "name": "stdout",
     "output_type": "stream",
     "text": [
      "https://www.transfermarkt.com/premier-league/transfers/wettbewerb/GB1/plus/?saison_id=2023&s_w=s\n",
      "Total tables: 41\n",
      "League Count: 40\n",
      "https://www.transfermarkt.com/championship/transfers/wettbewerb/GB2/plus/?saison_id=2023&s_w=s\n",
      "Total tables: 49\n",
      "League Count: 48\n",
      "https://www.transfermarkt.com/primera-division/transfers/wettbewerb/ES1/plus/?saison_id=2023&s_w=s\n",
      "Total tables: 41\n",
      "League Count: 40\n",
      "https://www.transfermarkt.com/1-bundesliga/transfers/wettbewerb/L1/plus/?saison_id=2023&s_w=s\n",
      "Total tables: 37\n",
      "League Count: 36\n",
      "https://www.transfermarkt.com/serie-a/transfers/wettbewerb/IT1/plus/?saison_id=2023&s_w=s\n",
      "Total tables: 41\n",
      "League Count: 40\n",
      "https://www.transfermarkt.com/ligue-1/transfers/wettbewerb/FR1/plus/?saison_id=2023&s_w=s\n",
      "Total tables: 37\n",
      "League Count: 36\n",
      "https://www.transfermarkt.com/liga-nos/transfers/wettbewerb/PO1/plus/?saison_id=2023&s_w=s\n",
      "Total tables: 37\n",
      "League Count: 36\n",
      "https://www.transfermarkt.com/eredivisie/transfers/wettbewerb/NL1/plus/?saison_id=2023&s_w=s\n",
      "Total tables: 37\n",
      "League Count: 36\n",
      "https://www.transfermarkt.com/premier-liga/transfers/wettbewerb/RU1/plus/?saison_id=2023&s_w=s\n",
      "Total tables: 33\n",
      "League Count: 32\n",
      "https://www.transfermarkt.com/saudi-professional-league/transfers/wettbewerb/SA1/plus/?saison_id=2023&s_w=s\n",
      "Total tables: 37\n",
      "League Count: 36\n"
     ]
    }
   ],
   "source": [
    "league_df = pd.read_csv('config/league-meta.csv')\n",
    "league_name = league_df.league_name.values.tolist()\n",
    "league_id = league_df.league_id.values.tolist()\n",
    "\n",
    "for league in range(0,len(league_id)):\n",
    "    atd_url = create_url(league_name[league], league_id[league])\n",
    "    r = requests.get(atd_url,headers ={'User-Agent':'Mozilla/5.0 (Macintosh; Intel Mac OS X 10_15_7) AppleWebKit/537.36 (KHTML, like Gecko) Chrome/110.0.0.0 Safari/537.36'})\n",
    "    doc = BeautifulSoup(r.text)\n",
    "    read_html_pandas_data = pd.read_html(r.text)\n",
    "    club_names = create_club_names(doc)\n",
    "    print(atd_url)\n",
    "    print(f'Total tables: {len(read_html_pandas_data)}')\n",
    "    print(\"League Count:\", len(club_names))\n",
    "    \n",
    "    df = createDataframe(read_html_pandas_data, club_names)\n",
    "\n",
    "    df.to_csv(f\"data/{league_name[league]}.csv\")"
   ]
  }
 ],
 "metadata": {
  "kernelspec": {
   "display_name": "Python 3",
   "language": "python",
   "name": "python3"
  },
  "language_info": {
   "codemirror_mode": {
    "name": "ipython",
    "version": 3
   },
   "file_extension": ".py",
   "mimetype": "text/x-python",
   "name": "python",
   "nbconvert_exporter": "python",
   "pygments_lexer": "ipython3",
   "version": "3.11.0rc2"
  },
  "orig_nbformat": 4,
  "vscode": {
   "interpreter": {
    "hash": "b2ef9d5e399c2810a19b2df6c15e2c1fd08005c30175408d2f0c16c82c3956a2"
   }
  }
 },
 "nbformat": 4,
 "nbformat_minor": 2
}
